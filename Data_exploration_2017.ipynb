{
  "nbformat": 4,
  "nbformat_minor": 0,
  "metadata": {
    "colab": {
      "name": "Data_exploration_2017.ipynb",
      "provenance": [],
      "collapsed_sections": [],
      "toc_visible": true,
      "authorship_tag": "ABX9TyOvI8oZL581hWirlfQ+om8J",
      "include_colab_link": true
    },
    "kernelspec": {
      "name": "python3",
      "display_name": "Python 3"
    }
  },
  "cells": [
    {
      "cell_type": "markdown",
      "metadata": {
        "id": "view-in-github",
        "colab_type": "text"
      },
      "source": [
        "<a href=\"https://colab.research.google.com/github/sharonapa/medical-timeseries/blob/main/Data_exploration_2017.ipynb\" target=\"_parent\"><img src=\"https://colab.research.google.com/assets/colab-badge.svg\" alt=\"Open In Colab\"/></a>"
      ]
    },
    {
      "cell_type": "code",
      "metadata": {
        "id": "lF5xv10HMkdG"
      },
      "source": [
        "import pandas as pd\n",
        "import numpy as np\n",
        "\n",
        "pd.__version__\n",
        "pd.set_option('display.max_columns', 100)"
      ],
      "execution_count": null,
      "outputs": []
    },
    {
      "cell_type": "code",
      "metadata": {
        "colab": {
          "base_uri": "https://localhost:8080/"
        },
        "id": "Rg6ZJExoSEea",
        "outputId": "41fbb360-d2a2-4c34-dc38-1560e441e620"
      },
      "source": [
        "# connect ro drive data\n",
        "from google.colab import drive\n",
        "drive.mount('/content/gdrive')\n"
      ],
      "execution_count": null,
      "outputs": [
        {
          "output_type": "stream",
          "text": [
            "Drive already mounted at /content/gdrive; to attempt to forcibly remount, call drive.mount(\"/content/gdrive\", force_remount=True).\n"
          ],
          "name": "stdout"
        }
      ]
    },
    {
      "cell_type": "code",
      "metadata": {
        "colab": {
          "base_uri": "https://localhost:8080/",
          "height": 131
        },
        "id": "QMup8hD4Oifh",
        "outputId": "fbfcd00e-4658-4590-81c9-5e80d0d5bf6c"
      },
      "source": [
        "# xlsx_noId_opening = '/content/gdrive/MyDrive/תואר שני/תזה/dataset/Copy of 2017-noID opening.xlsx'\n",
        "# xlsx_noId_opening_df = pd.read_excel(xlsx_noId_opening,sheet_name='Opening_Progress',header=1)\n",
        "# xlsx_noId_opening_df.head()\n",
        "\n",
        "xlsx_noId_opening = '/content/gdrive/MyDrive/תואר שני/תזה/dataset/monitor_opening_sample_900127470501.xlsx'\n",
        "xlsx_noId_opening_df = pd.read_excel(xlsx_noId_opening)\n",
        "xlsx_noId_opening_df.head()\n"
      ],
      "execution_count": null,
      "outputs": [
        {
          "output_type": "execute_result",
          "data": {
            "text/html": [
              "<div>\n",
              "<style scoped>\n",
              "    .dataframe tbody tr th:only-of-type {\n",
              "        vertical-align: middle;\n",
              "    }\n",
              "\n",
              "    .dataframe tbody tr th {\n",
              "        vertical-align: top;\n",
              "    }\n",
              "\n",
              "    .dataframe thead th {\n",
              "        text-align: right;\n",
              "    }\n",
              "</style>\n",
              "<table border=\"1\" class=\"dataframe\">\n",
              "  <thead>\n",
              "    <tr style=\"text-align: right;\">\n",
              "      <th></th>\n",
              "      <th>Monitor Date 1</th>\n",
              "      <th>Opening 1</th>\n",
              "      <th>Monitor Date 2</th>\n",
              "      <th>Opening 2</th>\n",
              "      <th>Monitor Date 3</th>\n",
              "      <th>Opening 3</th>\n",
              "      <th>Monitor Date 4</th>\n",
              "      <th>Opening 4</th>\n",
              "      <th>Monitor Date 5</th>\n",
              "      <th>Opening 5</th>\n",
              "      <th>Monitor Date 6</th>\n",
              "      <th>Opening 6</th>\n",
              "      <th>Monitor Date 7</th>\n",
              "      <th>Opening 7</th>\n",
              "      <th>Monitor Date 8</th>\n",
              "      <th>Opening 8</th>\n",
              "      <th>Monitor Date 9</th>\n",
              "      <th>Opening 9</th>\n",
              "      <th>outcome</th>\n",
              "    </tr>\n",
              "  </thead>\n",
              "  <tbody>\n",
              "    <tr>\n",
              "      <th>0</th>\n",
              "      <td>2017-01-04 15:51:00</td>\n",
              "      <td>-2</td>\n",
              "      <td>2017-01-04 17:55:00</td>\n",
              "      <td>2</td>\n",
              "      <td>2017-01-04 18:57:00</td>\n",
              "      <td>-2</td>\n",
              "      <td>2017-01-04 20:07:00</td>\n",
              "      <td>-2</td>\n",
              "      <td>2017-01-04 20:59:00</td>\n",
              "      <td>-2</td>\n",
              "      <td>2017-01-04 22:05:00</td>\n",
              "      <td>-2</td>\n",
              "      <td>2017-01-04 22:25:00</td>\n",
              "      <td>-2</td>\n",
              "      <td>2017-01-04 23:42:00</td>\n",
              "      <td>-1</td>\n",
              "      <td>2017-01-05 00:46:00</td>\n",
              "      <td>-1</td>\n",
              "      <td>Spontaneous onset of labor</td>\n",
              "    </tr>\n",
              "  </tbody>\n",
              "</table>\n",
              "</div>"
            ],
            "text/plain": [
              "       Monitor Date 1  Opening 1      Monitor Date 2  Opening 2  \\\n",
              "0 2017-01-04 15:51:00         -2 2017-01-04 17:55:00          2   \n",
              "\n",
              "       Monitor Date 3  Opening 3      Monitor Date 4  Opening 4  \\\n",
              "0 2017-01-04 18:57:00         -2 2017-01-04 20:07:00         -2   \n",
              "\n",
              "       Monitor Date 5  Opening 5      Monitor Date 6  Opening 6  \\\n",
              "0 2017-01-04 20:59:00         -2 2017-01-04 22:05:00         -2   \n",
              "\n",
              "       Monitor Date 7  Opening 7      Monitor Date 8  Opening 8  \\\n",
              "0 2017-01-04 22:25:00         -2 2017-01-04 23:42:00         -1   \n",
              "\n",
              "       Monitor Date 9  Opening 9                     outcome  \n",
              "0 2017-01-05 00:46:00         -1  Spontaneous onset of labor  "
            ]
          },
          "metadata": {
            "tags": []
          },
          "execution_count": 89
        }
      ]
    },
    {
      "cell_type": "markdown",
      "metadata": {
        "id": "zH0ZRXPs3fVK"
      },
      "source": [
        "# Preprocess stage for time series prediction\r\n",
        "1.   take selected features from a list\r\n",
        "2.   make the delivery room entering time as start time = 00:00:00\r\n",
        "3. delivery room entering time will be the Data frame index\r\n",
        "\r\n"
      ]
    },
    {
      "cell_type": "code",
      "metadata": {
        "id": "234982qb3b4n",
        "colab": {
          "base_uri": "https://localhost:8080/",
          "height": 408
        },
        "outputId": "24390bea-5141-4eda-e59b-d720386a30f0"
      },
      "source": [
        "# for each preg id ,  take first monitor  date as zero time,  join with the other monitor date as a timde delta\r\n",
        "# take from other csv file the preg outcome as the Y\r\n",
        "#selected_features = ['Monitor Date 1','Opening 1','Monitor Date 2','Opening 2','Pregnancy ID']\r\n",
        "selected_features = ['Monitor Date 1','Opening 1','Monitor Date 2','Opening 2','Monitor Date 3','Opening 3','Monitor Date 4','Opening 4','Monitor Date 5','Opening 5','Monitor Date 6','Opening 6','Monitor Date 7','Opening 7','Monitor Date 8','Opening 8','Monitor Date 9','Opening 9']\r\n",
        "xlsx_noId_opening_df_features = xlsx_noId_opening_df[selected_features].copy()\r\n",
        "print('total rows:',xlsx_noId_opening_df_features.shape)\r\n",
        "\r\n",
        "\r\n",
        "# clean NAN data\r\n",
        "xlsx_noId_opening_df_features = xlsx_noId_opening_df_features.dropna()\r\n",
        "print('total rows after cleaning NA:',xlsx_noId_opening_df_features.shape)\r\n",
        "\r\n",
        "#xlsx_noId_opening_df_features.rename(columns={\"Monitor Date 1\": \"Monitor_Date_1\", \"Monitor Date 2\": \"Monitor_Date_2\"},inplace=True)\r\n",
        "\r\n",
        "\r\n",
        "#delta_2_1 = xlsx_noId_opening_df_features['Monitor Date 2'] - xlsx_noId_opening_df_features['Monitor Date 1']\r\n",
        "#xx= xlsx_noId_opening_df_features.iloc[1:]- xlsx_noId_opening_df_features.iloc[0]\r\n",
        "\r\n",
        "#deltas = xlsx_noId_opening_df_features.iloc[0, [2,4,6,8,10,12,14,16]].astype('datetime64') - xlsx_noId_opening_df_features.iloc[0,[0]].astype('datetime64')\r\n",
        "#type(xlsx_noId_opening_df_features.iloc[0, [2,4,6,8,10,12,14,16]].to_pydatetime())\r\n",
        "\r\n",
        "deltas = xlsx_noId_opening_df_features.apply(lambda x : x[::2]-  x[0].to_pydatetime(),axis=1).astype('timedelta64[m]')\r\n",
        "cols = ['delta_{}_{}'.format(x,x+1) for x in range(1,deltas.shape[1]+1)]\r\n",
        "\r\n",
        "deltas.rename(cols,axis='columns', inplace=True)\r\n",
        "#deltas\r\n",
        "#pd.concat([xlsx_noId_opening_df_features, deltas],axis=1)\r\n",
        "\r\n",
        "#xlsx_noId_opening_df_features.iloc[0,[0]].astype('datetime64')\r\n",
        "#deltas.astype('timedelta64[m]')\r\n",
        "#convert to minuts\r\n",
        "\r\n",
        "#xlsx_noId_opening_df_features['delta_monitor_2_1'] = delta_2_1.astype('timedelta64[m]')\r\n",
        "#xlsx_noId_opening_df_features.head()\r\n"
      ],
      "execution_count": null,
      "outputs": [
        {
          "output_type": "stream",
          "text": [
            "total rows: (1, 18)\n",
            "total rows after cleaning NA: (1, 18)\n"
          ],
          "name": "stdout"
        },
        {
          "output_type": "error",
          "ename": "TypeError",
          "evalue": "ignored",
          "traceback": [
            "\u001b[0;31m---------------------------------------------------------------------------\u001b[0m",
            "\u001b[0;31mTypeError\u001b[0m                                 Traceback (most recent call last)",
            "\u001b[0;32m<ipython-input-127-c9df7053ef4a>\u001b[0m in \u001b[0;36m<module>\u001b[0;34m()\u001b[0m\n\u001b[1;32m     23\u001b[0m \u001b[0mcols\u001b[0m \u001b[0;34m=\u001b[0m \u001b[0;34m[\u001b[0m\u001b[0;34m'delta_{}_{}'\u001b[0m\u001b[0;34m.\u001b[0m\u001b[0mformat\u001b[0m\u001b[0;34m(\u001b[0m\u001b[0mx\u001b[0m\u001b[0;34m,\u001b[0m\u001b[0mx\u001b[0m\u001b[0;34m+\u001b[0m\u001b[0;36m1\u001b[0m\u001b[0;34m)\u001b[0m \u001b[0;32mfor\u001b[0m \u001b[0mx\u001b[0m \u001b[0;32min\u001b[0m \u001b[0mrange\u001b[0m\u001b[0;34m(\u001b[0m\u001b[0;36m1\u001b[0m\u001b[0;34m,\u001b[0m\u001b[0mdeltas\u001b[0m\u001b[0;34m.\u001b[0m\u001b[0mshape\u001b[0m\u001b[0;34m[\u001b[0m\u001b[0;36m1\u001b[0m\u001b[0;34m]\u001b[0m\u001b[0;34m+\u001b[0m\u001b[0;36m1\u001b[0m\u001b[0;34m)\u001b[0m\u001b[0;34m]\u001b[0m\u001b[0;34m\u001b[0m\u001b[0;34m\u001b[0m\u001b[0m\n\u001b[1;32m     24\u001b[0m \u001b[0;34m\u001b[0m\u001b[0m\n\u001b[0;32m---> 25\u001b[0;31m \u001b[0mdeltas\u001b[0m\u001b[0;34m.\u001b[0m\u001b[0mrename\u001b[0m\u001b[0;34m(\u001b[0m\u001b[0mcols\u001b[0m\u001b[0;34m,\u001b[0m\u001b[0maxis\u001b[0m\u001b[0;34m=\u001b[0m\u001b[0;34m'columns'\u001b[0m\u001b[0;34m,\u001b[0m \u001b[0minplace\u001b[0m\u001b[0;34m=\u001b[0m\u001b[0;32mTrue\u001b[0m\u001b[0;34m)\u001b[0m\u001b[0;34m\u001b[0m\u001b[0;34m\u001b[0m\u001b[0m\n\u001b[0m\u001b[1;32m     26\u001b[0m \u001b[0;31m#deltas\u001b[0m\u001b[0;34m\u001b[0m\u001b[0;34m\u001b[0m\u001b[0;34m\u001b[0m\u001b[0m\n\u001b[1;32m     27\u001b[0m \u001b[0;31m#pd.concat([xlsx_noId_opening_df_features, deltas],axis=1)\u001b[0m\u001b[0;34m\u001b[0m\u001b[0;34m\u001b[0m\u001b[0;34m\u001b[0m\u001b[0m\n",
            "\u001b[0;32m/usr/local/lib/python3.6/dist-packages/pandas/util/_decorators.py\u001b[0m in \u001b[0;36mwrapper\u001b[0;34m(*args, **kwargs)\u001b[0m\n\u001b[1;32m    307\u001b[0m         \u001b[0;34m@\u001b[0m\u001b[0mwraps\u001b[0m\u001b[0;34m(\u001b[0m\u001b[0mfunc\u001b[0m\u001b[0;34m)\u001b[0m\u001b[0;34m\u001b[0m\u001b[0;34m\u001b[0m\u001b[0m\n\u001b[1;32m    308\u001b[0m         \u001b[0;32mdef\u001b[0m \u001b[0mwrapper\u001b[0m\u001b[0;34m(\u001b[0m\u001b[0;34m*\u001b[0m\u001b[0margs\u001b[0m\u001b[0;34m,\u001b[0m \u001b[0;34m**\u001b[0m\u001b[0mkwargs\u001b[0m\u001b[0;34m)\u001b[0m \u001b[0;34m->\u001b[0m \u001b[0mCallable\u001b[0m\u001b[0;34m[\u001b[0m\u001b[0;34m...\u001b[0m\u001b[0;34m,\u001b[0m \u001b[0mAny\u001b[0m\u001b[0;34m]\u001b[0m\u001b[0;34m:\u001b[0m\u001b[0;34m\u001b[0m\u001b[0;34m\u001b[0m\u001b[0m\n\u001b[0;32m--> 309\u001b[0;31m             \u001b[0;32mreturn\u001b[0m \u001b[0mfunc\u001b[0m\u001b[0;34m(\u001b[0m\u001b[0;34m*\u001b[0m\u001b[0margs\u001b[0m\u001b[0;34m,\u001b[0m \u001b[0;34m**\u001b[0m\u001b[0mkwargs\u001b[0m\u001b[0;34m)\u001b[0m\u001b[0;34m\u001b[0m\u001b[0;34m\u001b[0m\u001b[0m\n\u001b[0m\u001b[1;32m    310\u001b[0m \u001b[0;34m\u001b[0m\u001b[0m\n\u001b[1;32m    311\u001b[0m         \u001b[0mkind\u001b[0m \u001b[0;34m=\u001b[0m \u001b[0minspect\u001b[0m\u001b[0;34m.\u001b[0m\u001b[0mParameter\u001b[0m\u001b[0;34m.\u001b[0m\u001b[0mPOSITIONAL_OR_KEYWORD\u001b[0m\u001b[0;34m\u001b[0m\u001b[0;34m\u001b[0m\u001b[0m\n",
            "\u001b[0;32m/usr/local/lib/python3.6/dist-packages/pandas/core/frame.py\u001b[0m in \u001b[0;36mrename\u001b[0;34m(self, mapper, index, columns, axis, copy, inplace, level, errors)\u001b[0m\n\u001b[1;32m   4306\u001b[0m             \u001b[0minplace\u001b[0m\u001b[0;34m=\u001b[0m\u001b[0minplace\u001b[0m\u001b[0;34m,\u001b[0m\u001b[0;34m\u001b[0m\u001b[0;34m\u001b[0m\u001b[0m\n\u001b[1;32m   4307\u001b[0m             \u001b[0mlevel\u001b[0m\u001b[0;34m=\u001b[0m\u001b[0mlevel\u001b[0m\u001b[0;34m,\u001b[0m\u001b[0;34m\u001b[0m\u001b[0;34m\u001b[0m\u001b[0m\n\u001b[0;32m-> 4308\u001b[0;31m             \u001b[0merrors\u001b[0m\u001b[0;34m=\u001b[0m\u001b[0merrors\u001b[0m\u001b[0;34m,\u001b[0m\u001b[0;34m\u001b[0m\u001b[0;34m\u001b[0m\u001b[0m\n\u001b[0m\u001b[1;32m   4309\u001b[0m         )\n\u001b[1;32m   4310\u001b[0m \u001b[0;34m\u001b[0m\u001b[0m\n",
            "\u001b[0;32m/usr/local/lib/python3.6/dist-packages/pandas/core/generic.py\u001b[0m in \u001b[0;36mrename\u001b[0;34m(self, mapper, index, columns, axis, copy, inplace, level, errors)\u001b[0m\n\u001b[1;32m    945\u001b[0m                     \u001b[0;32mraise\u001b[0m \u001b[0mKeyError\u001b[0m\u001b[0;34m(\u001b[0m\u001b[0;34mf\"{missing_labels} not found in axis\"\u001b[0m\u001b[0;34m)\u001b[0m\u001b[0;34m\u001b[0m\u001b[0;34m\u001b[0m\u001b[0m\n\u001b[1;32m    946\u001b[0m \u001b[0;34m\u001b[0m\u001b[0m\n\u001b[0;32m--> 947\u001b[0;31m             \u001b[0mnew_index\u001b[0m \u001b[0;34m=\u001b[0m \u001b[0max\u001b[0m\u001b[0;34m.\u001b[0m\u001b[0m_transform_index\u001b[0m\u001b[0;34m(\u001b[0m\u001b[0mf\u001b[0m\u001b[0;34m,\u001b[0m \u001b[0mlevel\u001b[0m\u001b[0;34m)\u001b[0m\u001b[0;34m\u001b[0m\u001b[0;34m\u001b[0m\u001b[0m\n\u001b[0m\u001b[1;32m    948\u001b[0m             \u001b[0mresult\u001b[0m\u001b[0;34m.\u001b[0m\u001b[0mset_axis\u001b[0m\u001b[0;34m(\u001b[0m\u001b[0mnew_index\u001b[0m\u001b[0;34m,\u001b[0m \u001b[0maxis\u001b[0m\u001b[0;34m=\u001b[0m\u001b[0maxis_no\u001b[0m\u001b[0;34m,\u001b[0m \u001b[0minplace\u001b[0m\u001b[0;34m=\u001b[0m\u001b[0;32mTrue\u001b[0m\u001b[0;34m)\u001b[0m\u001b[0;34m\u001b[0m\u001b[0;34m\u001b[0m\u001b[0m\n\u001b[1;32m    949\u001b[0m             \u001b[0mresult\u001b[0m\u001b[0;34m.\u001b[0m\u001b[0m_clear_item_cache\u001b[0m\u001b[0;34m(\u001b[0m\u001b[0;34m)\u001b[0m\u001b[0;34m\u001b[0m\u001b[0;34m\u001b[0m\u001b[0m\n",
            "\u001b[0;32m/usr/local/lib/python3.6/dist-packages/pandas/core/indexes/base.py\u001b[0m in \u001b[0;36m_transform_index\u001b[0;34m(self, func, level)\u001b[0m\n\u001b[1;32m   4834\u001b[0m             \u001b[0;32mreturn\u001b[0m \u001b[0mtype\u001b[0m\u001b[0;34m(\u001b[0m\u001b[0mself\u001b[0m\u001b[0;34m)\u001b[0m\u001b[0;34m.\u001b[0m\u001b[0mfrom_tuples\u001b[0m\u001b[0;34m(\u001b[0m\u001b[0mitems\u001b[0m\u001b[0;34m,\u001b[0m \u001b[0mnames\u001b[0m\u001b[0;34m=\u001b[0m\u001b[0mself\u001b[0m\u001b[0;34m.\u001b[0m\u001b[0mnames\u001b[0m\u001b[0;34m)\u001b[0m\u001b[0;34m\u001b[0m\u001b[0;34m\u001b[0m\u001b[0m\n\u001b[1;32m   4835\u001b[0m         \u001b[0;32melse\u001b[0m\u001b[0;34m:\u001b[0m\u001b[0;34m\u001b[0m\u001b[0;34m\u001b[0m\u001b[0m\n\u001b[0;32m-> 4836\u001b[0;31m             \u001b[0mitems\u001b[0m \u001b[0;34m=\u001b[0m \u001b[0;34m[\u001b[0m\u001b[0mfunc\u001b[0m\u001b[0;34m(\u001b[0m\u001b[0mx\u001b[0m\u001b[0;34m)\u001b[0m \u001b[0;32mfor\u001b[0m \u001b[0mx\u001b[0m \u001b[0;32min\u001b[0m \u001b[0mself\u001b[0m\u001b[0;34m]\u001b[0m\u001b[0;34m\u001b[0m\u001b[0;34m\u001b[0m\u001b[0m\n\u001b[0m\u001b[1;32m   4837\u001b[0m             \u001b[0;32mreturn\u001b[0m \u001b[0mIndex\u001b[0m\u001b[0;34m(\u001b[0m\u001b[0mitems\u001b[0m\u001b[0;34m,\u001b[0m \u001b[0mname\u001b[0m\u001b[0;34m=\u001b[0m\u001b[0mself\u001b[0m\u001b[0;34m.\u001b[0m\u001b[0mname\u001b[0m\u001b[0;34m,\u001b[0m \u001b[0mtupleize_cols\u001b[0m\u001b[0;34m=\u001b[0m\u001b[0;32mFalse\u001b[0m\u001b[0;34m)\u001b[0m\u001b[0;34m\u001b[0m\u001b[0;34m\u001b[0m\u001b[0m\n\u001b[1;32m   4838\u001b[0m \u001b[0;34m\u001b[0m\u001b[0m\n",
            "\u001b[0;32m/usr/local/lib/python3.6/dist-packages/pandas/core/indexes/base.py\u001b[0m in \u001b[0;36m<listcomp>\u001b[0;34m(.0)\u001b[0m\n\u001b[1;32m   4834\u001b[0m             \u001b[0;32mreturn\u001b[0m \u001b[0mtype\u001b[0m\u001b[0;34m(\u001b[0m\u001b[0mself\u001b[0m\u001b[0;34m)\u001b[0m\u001b[0;34m.\u001b[0m\u001b[0mfrom_tuples\u001b[0m\u001b[0;34m(\u001b[0m\u001b[0mitems\u001b[0m\u001b[0;34m,\u001b[0m \u001b[0mnames\u001b[0m\u001b[0;34m=\u001b[0m\u001b[0mself\u001b[0m\u001b[0;34m.\u001b[0m\u001b[0mnames\u001b[0m\u001b[0;34m)\u001b[0m\u001b[0;34m\u001b[0m\u001b[0;34m\u001b[0m\u001b[0m\n\u001b[1;32m   4835\u001b[0m         \u001b[0;32melse\u001b[0m\u001b[0;34m:\u001b[0m\u001b[0;34m\u001b[0m\u001b[0;34m\u001b[0m\u001b[0m\n\u001b[0;32m-> 4836\u001b[0;31m             \u001b[0mitems\u001b[0m \u001b[0;34m=\u001b[0m \u001b[0;34m[\u001b[0m\u001b[0mfunc\u001b[0m\u001b[0;34m(\u001b[0m\u001b[0mx\u001b[0m\u001b[0;34m)\u001b[0m \u001b[0;32mfor\u001b[0m \u001b[0mx\u001b[0m \u001b[0;32min\u001b[0m \u001b[0mself\u001b[0m\u001b[0;34m]\u001b[0m\u001b[0;34m\u001b[0m\u001b[0;34m\u001b[0m\u001b[0m\n\u001b[0m\u001b[1;32m   4837\u001b[0m             \u001b[0;32mreturn\u001b[0m \u001b[0mIndex\u001b[0m\u001b[0;34m(\u001b[0m\u001b[0mitems\u001b[0m\u001b[0;34m,\u001b[0m \u001b[0mname\u001b[0m\u001b[0;34m=\u001b[0m\u001b[0mself\u001b[0m\u001b[0;34m.\u001b[0m\u001b[0mname\u001b[0m\u001b[0;34m,\u001b[0m \u001b[0mtupleize_cols\u001b[0m\u001b[0;34m=\u001b[0m\u001b[0;32mFalse\u001b[0m\u001b[0;34m)\u001b[0m\u001b[0;34m\u001b[0m\u001b[0;34m\u001b[0m\u001b[0m\n\u001b[1;32m   4838\u001b[0m \u001b[0;34m\u001b[0m\u001b[0m\n",
            "\u001b[0;31mTypeError\u001b[0m: 'list' object is not callable"
          ]
        }
      ]
    },
    {
      "cell_type": "markdown",
      "metadata": {
        "id": "7Z1Ds49u1CFk"
      },
      "source": [
        "# Getting the labour outcome"
      ]
    },
    {
      "cell_type": "code",
      "metadata": {
        "id": "3-USq7Kz9eox"
      },
      "source": [
        "# taking the outcome  - delivery mode\r\n",
        "xlsx_noId = '/content/gdrive/MyDrive/תואר שני/תזה/dataset/Copy of 2017-noID.xlsx'\r\n",
        "xlsx_noId_df = pd.read_excel(xlsx_noId,sheet_name='PET_Report',header=1)\r\n",
        "#xlsx_noId_df.head()"
      ],
      "execution_count": null,
      "outputs": []
    },
    {
      "cell_type": "code",
      "metadata": {
        "colab": {
          "base_uri": "https://localhost:8080/",
          "height": 204
        },
        "id": "m5sfHFnXhAC9",
        "outputId": "8cf95007-f456-4e80-968b-ea53e35d749e"
      },
      "source": [
        "selected_features = ['Pregnancy ID','סוג לידה']\r\n",
        "xlsx_noId_df_features = xlsx_noId_df[selected_features].copy()\r\n",
        "xlsx_noId_df_features.head()\r\n",
        "labour_outcome =xlsx_noId_df_features['סוג לידה'].unique()\r\n",
        "\r\n",
        "# transfrom the hebrew decription into a code\r\n",
        "xlsx_noId_df_features['labour_outcome_id'] = xlsx_noId_df_features['סוג לידה'].map(lambda cell_val: np.where(cell_val == labour_outcome)[0][0])\r\n",
        "xlsx_noId_df_features.head()"
      ],
      "execution_count": null,
      "outputs": [
        {
          "output_type": "execute_result",
          "data": {
            "text/html": [
              "<div>\n",
              "<style scoped>\n",
              "    .dataframe tbody tr th:only-of-type {\n",
              "        vertical-align: middle;\n",
              "    }\n",
              "\n",
              "    .dataframe tbody tr th {\n",
              "        vertical-align: top;\n",
              "    }\n",
              "\n",
              "    .dataframe thead th {\n",
              "        text-align: right;\n",
              "    }\n",
              "</style>\n",
              "<table border=\"1\" class=\"dataframe\">\n",
              "  <thead>\n",
              "    <tr style=\"text-align: right;\">\n",
              "      <th></th>\n",
              "      <th>Pregnancy ID</th>\n",
              "      <th>סוג לידה</th>\n",
              "      <th>labour_outcome_id</th>\n",
              "    </tr>\n",
              "  </thead>\n",
              "  <tbody>\n",
              "    <tr>\n",
              "      <th>0</th>\n",
              "      <td>900013630201</td>\n",
              "      <td>ניתוח קיסרי</td>\n",
              "      <td>0</td>\n",
              "    </tr>\n",
              "    <tr>\n",
              "      <th>1</th>\n",
              "      <td>2171663404</td>\n",
              "      <td>לידה רגילה</td>\n",
              "      <td>1</td>\n",
              "    </tr>\n",
              "    <tr>\n",
              "      <th>2</th>\n",
              "      <td>2171663404</td>\n",
              "      <td>לידה רגילה</td>\n",
              "      <td>1</td>\n",
              "    </tr>\n",
              "    <tr>\n",
              "      <th>3</th>\n",
              "      <td>4082131602</td>\n",
              "      <td>ניתוח קיסרי</td>\n",
              "      <td>0</td>\n",
              "    </tr>\n",
              "    <tr>\n",
              "      <th>4</th>\n",
              "      <td>900028589101</td>\n",
              "      <td>ניתוח קיסרי</td>\n",
              "      <td>0</td>\n",
              "    </tr>\n",
              "  </tbody>\n",
              "</table>\n",
              "</div>"
            ],
            "text/plain": [
              "   Pregnancy ID     סוג לידה  labour_outcome_id\n",
              "0  900013630201  ניתוח קיסרי                  0\n",
              "1    2171663404   לידה רגילה                  1\n",
              "2    2171663404   לידה רגילה                  1\n",
              "3    4082131602  ניתוח קיסרי                  0\n",
              "4  900028589101  ניתוח קיסרי                  0"
            ]
          },
          "metadata": {
            "tags": []
          },
          "execution_count": 6
        }
      ]
    },
    {
      "cell_type": "code",
      "metadata": {
        "colab": {
          "base_uri": "https://localhost:8080/"
        },
        "id": "CDOhOLzmxXTk",
        "outputId": "eb816a81-7ddd-424c-88f7-8f2e853708d8"
      },
      "source": [
        "type(labour_outcome)"
      ],
      "execution_count": null,
      "outputs": [
        {
          "output_type": "execute_result",
          "data": {
            "text/plain": [
              "numpy.ndarray"
            ]
          },
          "metadata": {
            "tags": []
          },
          "execution_count": 7
        }
      ]
    },
    {
      "cell_type": "code",
      "metadata": {
        "colab": {
          "base_uri": "https://localhost:8080/"
        },
        "id": "K1JDpV10YUen",
        "outputId": "ada37b53-9ff7-4308-e9f5-f2a8425cf23b"
      },
      "source": [
        "# split the data to train and target   80/20\n",
        "print('data set size: ',xlsx_noId_df.shape)\n",
        "rows , cols  = xlsx_noId_df.shape\n",
        "\n",
        "train_size = int(rows*0.8)\n",
        "\n",
        "xlsx_noId_df_train = xlsx_noId_df[0:train_size]\n",
        "print('train size: ', xlsx_noId_df_train.shape)\n",
        "\n",
        "xlsx_noId_df_test = xlsx_noId_df[train_size:]\n",
        "print('test size: ', xlsx_noId_df_test.shape)"
      ],
      "execution_count": null,
      "outputs": [
        {
          "output_type": "stream",
          "text": [
            "data set size:  (4051, 309)\n",
            "train size:  (3240, 309)\n",
            "test size:  (811, 309)\n"
          ],
          "name": "stdout"
        }
      ]
    },
    {
      "cell_type": "code",
      "metadata": {
        "id": "DpEOm7OxLKCk"
      },
      "source": [
        "# extract the target APGAR col\n"
      ],
      "execution_count": null,
      "outputs": []
    },
    {
      "cell_type": "code",
      "metadata": {
        "id": "OCRahCF1Vnwq",
        "colab": {
          "base_uri": "https://localhost:8080/",
          "height": 35
        },
        "outputId": "eb37aa9b-66e5-492f-a6e9-dc84bc594873"
      },
      "source": [
        ","
      ],
      "execution_count": null,
      "outputs": [
        {
          "output_type": "execute_result",
          "data": {
            "application/vnd.google.colaboratory.intrinsic+json": {
              "type": "string"
            },
            "text/plain": [
              "''"
            ]
          },
          "metadata": {
            "tags": []
          },
          "execution_count": 10
        }
      ]
    }
  ]
}